{
 "cells": [
  {
   "cell_type": "code",
   "execution_count": null,
   "metadata": {},
   "outputs": [],
   "source": [
    "\"\"\"\n",
    "- Develop a class that will represent a bank account.\u000b\n",
    "\n",
    "- The class must support the methods deposit, withdraw, and total_balance.\u000b\n",
    "\n",
    "- The currency has coins in these denominations: 1, 5, 10, 25, 100 (penny, nickel, dime, quarter, and dollar).\u000b\n",
    "\n",
    "- Total balance method:\u000b\t\n",
    "\n",
    "    * Returns the total balance in terms of cents.\u000b\n",
    "\n",
    "- Deposit method:\u000b\t\n",
    "\n",
    "* Must allow multiple coins of multiple denominations to be deposited in one deposit.\u000b\t\n",
    "\n",
    "\n",
    "* For example, you can deposit 3 dollars, 7 quarters, and 11 nickels in one call to deposit. That would increase the balance by 530 cents.\n",
    "\n",
    "\n",
    "\n",
    "\u000b- Withdraw method:\u000b\t\n",
    "\n",
    "* Input is the total amount to withdraw (in cents).\n",
    "\n",
    "\u000b\n",
    "* Return value is the coins that will make up the total withdraw, using the fewest number of coins required.\u000b\t\n",
    " \n",
    " \n",
    " * Assume that the bank has an unlimited number of each denomination of coin available for withdrawals.\u000b\n",
    "     \t* For example, if withdraw is passed the number 562, the return should be 5 dollars, 2 quarters, 1 dime, and 2 pennies.\u000b\n",
    "         \n",
    "- Include appropriate error handling\u000b- You need to write code that validates the functionality of the class.\u000b\n",
    "\n",
    "\"\"\"\n",
    "\n"
   ]
  },
  {
   "cell_type": "code",
   "execution_count": null,
   "metadata": {},
   "outputs": [],
   "source": [
    "# 1, 5, 10, 25, 100 (penny, nickel, dime, quarter, and dollar).\u000b\n",
    "\n",
    "{1:0, 5:0, 10:0,25:0, 100:0}"
   ]
  },
  {
   "cell_type": "code",
   "execution_count": 16,
   "metadata": {},
   "outputs": [
    {
     "name": "stdout",
     "output_type": "stream",
     "text": [
      "withdraw_cash got 124\n",
      "subttl_this_denom: 1\n",
      "subttl_this_denom: 0\n",
      "subttl_this_denom: 2\n",
      "subttl_this_denom: 0\n",
      "subttl_this_denom: 4\n",
      "Withdrawal of 124 cents processed, new balance is 1\n"
     ]
    },
    {
     "data": {
      "text/plain": [
       "{100: 1, 25: 0, 10: 2, 5: 0, 1: 4}"
      ]
     },
     "execution_count": 16,
     "metadata": {},
     "output_type": "execute_result"
    }
   ],
   "source": [
    "# denominations_dict={1:0, 5:0, 10:0,25:0, 100:0}\n",
    "\n",
    "class BankAccount():\n",
    "    def __init__(self) -> None:\n",
    "        self.balance=0\n",
    "        pass\n",
    "\n",
    "    def get_balance(self)->int:\n",
    "        \"\"\"- Total balance method:\n",
    "    * Returns the total balance in terms of cents.\"\"\"\n",
    "        \n",
    "        return(self.balance)\n",
    "    \n",
    "    def deposit_cash(self,d_:dict)->None:\n",
    "        for k,v in d_.items():\n",
    "            # print(\"\")\n",
    "            self.balance+=k*v\n",
    "\n",
    "    def check_balance_not_negative_next_transaction(self, next_transaction_cents):\n",
    "         if next_transaction_cents > self.balance:\n",
    "             raise ValueError(\"overdraft not allowed\")\n",
    "\n",
    "\n",
    "    def withdraw_cash(self, cents)->dict:\n",
    "        print(f\"withdraw_cash got {cents}\")\n",
    "        self.check_balance_not_negative_next_transaction(cents)\n",
    "        centsRemaining=cents\n",
    "        denoms=[100,25,10,5,1]\n",
    "        return_val=dict()\n",
    "\n",
    "        for n in denoms:\n",
    "            subttl_this_denom=centsRemaining//n\n",
    "            print(f\"subttl_this_denom: {subttl_this_denom}\")\n",
    "            return_val[n]=subttl_this_denom\n",
    "            centsRemaining-=subttl_this_denom*n\n",
    "            self.balance -=subttl_this_denom*n\n",
    "        print(f\"Withdrawal of {cents} cents processed, new balance is {self.balance}\")\n",
    "        return(return_val)\n",
    "\n",
    "\n",
    "    \n",
    "ba=BankAccount()\n",
    "ba.deposit_cash({100:1,25:1})\n",
    "\n",
    "ba.get_balance()\n",
    "\n",
    "\n",
    "ba.withdraw_cash(124)\n",
    "\n"
   ]
  },
  {
   "cell_type": "code",
   "execution_count": null,
   "metadata": {},
   "outputs": [],
   "source": [
    " \"\"\"\n",
    "Test plan:\n",
    "\n",
    "- Verify balance after transaction reflects correct totals\n",
    "    deposit 500\n",
    "    withdraw 300\n",
    "    new balance 200\n",
    "\n",
    "\n",
    "\n",
    "- Verify overdraft not allowed\n",
    "    deposit 500\n",
    "    withdraw 501\n",
    "    expect some failure behavior\n",
    "\n",
    "- Verify withdrawal gives as few coins as possible\n",
    "    deposit 100\n",
    "    withdraw 25\n",
    "        - get {25:1}\n",
    "\n",
    "    deposit 100\n",
    "    withdraw 6\n",
    "    get {5:1, 1:1}\n",
    "\n",
    "   \n",
    "\"\"\""
   ]
  },
  {
   "cell_type": "code",
   "execution_count": null,
   "metadata": {},
   "outputs": [],
   "source": [
    "# Write a query to select all rows from the customer table where the last name is Smith.\n",
    "\n",
    "\n",
    "select * from Customer where last_name=\"Smith\""
   ]
  },
  {
   "cell_type": "code",
   "execution_count": null,
   "metadata": {},
   "outputs": [],
   "source": [
    "# You have an employee table with columns for first name, last name, and age. There is an employee in the table named Joe Smith. How do you update his age to 30?"
   ]
  },
  {
   "cell_type": "code",
   "execution_count": null,
   "metadata": {},
   "outputs": [],
   "source": [
    "update Employee \n",
    "    set age=30\n",
    "    where first_name = \"Joe\" and last_name = \"Smith\""
   ]
  },
  {
   "cell_type": "code",
   "execution_count": null,
   "metadata": {},
   "outputs": [],
   "source": [
    "\"\"\"# There is a \"transactions\" table, consisting of: \n",
    "# column for transaction ID, \n",
    "a column for customer name, \n",
    "column for the sales amount,\n",
    " and a column containing a foreign key to the regions table. \n",
    " \n",
    " \n",
    " The regions table consists of: \n",
    " region ID primary key, \n",
    " character column for region name. \n",
    " \n",
    " What is the SQL query to show the total sales amount for each region (by name)?\n",
    " \n",
    " \n",
    "with transactions_ as (select \n",
    "                            sum(sales_amount) sales_sum,\n",
    "                            region_id\n",
    "                            from transactions)\n",
    ",\n",
    "regions_ as (select region_id, region_name from regions)\n",
    "\n",
    "\n",
    "select coalesce(t.sales_sum, 0),\n",
    "    # t.region_id,\n",
    "    # r.region_id,\n",
    "    r.region_name\n",
    "\n",
    "from transactions_\n",
    "right join\n",
    "regions_ r\n",
    "\n",
    "on t.region_id = r.region_id\n",
    "\n",
    "group by region_id\n",
    " \n",
    " \"\"\"\n",
    "\n"
   ]
  }
 ],
 "metadata": {
  "kernelspec": {
   "display_name": ".venv",
   "language": "python",
   "name": "python3"
  },
  "language_info": {
   "codemirror_mode": {
    "name": "ipython",
    "version": 3
   },
   "file_extension": ".py",
   "mimetype": "text/x-python",
   "name": "python",
   "nbconvert_exporter": "python",
   "pygments_lexer": "ipython3",
   "version": "3.10.11"
  }
 },
 "nbformat": 4,
 "nbformat_minor": 2
}
