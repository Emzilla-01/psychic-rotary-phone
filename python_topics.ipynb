{
 "cells": [
  {
   "cell_type": "code",
   "execution_count": 1,
   "metadata": {},
   "outputs": [
    {
     "data": {
      "text/plain": [
       "'basic python, immutable object in python, decorators in python, class methods, and how the structure is used.'"
      ]
     },
     "execution_count": 1,
     "metadata": {},
     "output_type": "execute_result"
    }
   ],
   "source": [
    "\"\"\"basic python, immutable object in python, decorators in python, class methods, and how the structure is used.\"\"\""
   ]
  },
  {
   "cell_type": "markdown",
   "metadata": {},
   "source": [
    "# Immutable objects in python"
   ]
  },
  {
   "cell_type": "code",
   "execution_count": 2,
   "metadata": {},
   "outputs": [
    {
     "data": {
      "text/plain": [
       "['__doc__', 'denominator', 'imag', 'numerator', 'real']"
      ]
     },
     "execution_count": 2,
     "metadata": {},
     "output_type": "execute_result"
    }
   ],
   "source": [
    "# Attributes of boolean object. \"bool\" is the Python keyword\n",
    "\n",
    "[attr for attr in dir(True) if not callable(eval(f\"bool.{attr}\"))] \n"
   ]
  },
  {
   "cell_type": "code",
   "execution_count": 3,
   "metadata": {},
   "outputs": [],
   "source": [
    "# Example wrapper function to run erroring code inline in next cell\n",
    "\n",
    "def print_except_wrapper(f, *args, **kwargs):\n",
    "    try:\n",
    "        print(f\"\\ncalling {f} with args:{args} -- kwargs:{kwargs}\")\n",
    "        print(\n",
    "            f(*args,**kwargs)\n",
    "            )\n",
    "    except Exception as e:\n",
    "        print(f\"{e} -- {type(e)} in {__name__}\")\n",
    "        return(None)"
   ]
  },
  {
   "cell_type": "code",
   "execution_count": 4,
   "metadata": {},
   "outputs": [
    {
     "name": "stdout",
     "output_type": "stream",
     "text": [
      "\n",
      "calling <method-wrapper '__setattr__' of bool object at 0x00007FF9B244DB68> with args:('real', 0) -- kwargs:{}\n",
      "attribute 'real' of 'int' objects is not writable -- <class 'AttributeError'> in __main__\n",
      "\n",
      "calling <method-wrapper '__getattribute__' of bool object at 0x00007FF9B244DB68> with args:('real',) -- kwargs:{}\n",
      "1\n",
      "\n",
      "calling <method-wrapper '__setattr__' of bool object at 0x00007FF9B244DB68> with args:('imag', 1) -- kwargs:{}\n",
      "attribute 'imag' of 'int' objects is not writable -- <class 'AttributeError'> in __main__\n",
      "\n",
      "calling <method-wrapper '__setattr__' of bool object at 0x00007FF9B244DB68> with args:('numerator', 0) -- kwargs:{}\n",
      "attribute 'numerator' of 'int' objects is not writable -- <class 'AttributeError'> in __main__\n"
     ]
    }
   ],
   "source": [
    "b=True # The boolean is a builtin immutable object. Its attributes cannot be set without re-instantiating the object.\n",
    "\n",
    "# We cannot change any attrs of the immutable boolean.\n",
    "\n",
    "print_except_wrapper(b.__setattr__, 'real',0) # AttributeError\n",
    "\n",
    "print_except_wrapper(b.__getattribute__, 'real') # 1\n",
    "\n",
    "print_except_wrapper(b.__setattr__, 'imag', 1) # AttributeError\n",
    "\n",
    "print_except_wrapper(b.__setattr__, 'numerator',0) # AttributeError\n"
   ]
  },
  {
   "cell_type": "code",
   "execution_count": 5,
   "metadata": {},
   "outputs": [
    {
     "data": {
      "text/plain": [
       "'spam'"
      ]
     },
     "execution_count": 5,
     "metadata": {},
     "output_type": "execute_result"
    }
   ],
   "source": [
    "# The dictionary or hashmap is a mutable builtin. It provides methods to manage & change the state of the object.\n",
    "\n",
    "d = dict()\n",
    "\n",
    "d.setdefault(\"eggs\",\"spam\")\n",
    "\n",
    "d.get('eggs',None)"
   ]
  },
  {
   "cell_type": "markdown",
   "metadata": {},
   "source": [
    "## Example approaches to control mutability of your objects."
   ]
  },
  {
   "cell_type": "code",
   "execution_count": 6,
   "metadata": {},
   "outputs": [
    {
     "data": {
      "text/plain": [
       "'spam'"
      ]
     },
     "execution_count": 6,
     "metadata": {},
     "output_type": "execute_result"
    }
   ],
   "source": [
    "# By default, your class does not control its mutability.\n",
    "\n",
    "class MutableExample():\n",
    "    pass\n",
    "\n",
    "me=MutableExample()\n",
    "me.eggs='spam'\n",
    "\n",
    "me.eggs"
   ]
  },
  {
   "cell_type": "code",
   "execution_count": 7,
   "metadata": {},
   "outputs": [
    {
     "ename": "AttributeError",
     "evalue": "'ImmutableExampleSlots' object has no attribute 'eggs'",
     "output_type": "error",
     "traceback": [
      "\u001b[1;31m---------------------------------------------------------------------------\u001b[0m",
      "\u001b[1;31mAttributeError\u001b[0m                            Traceback (most recent call last)",
      "Cell \u001b[1;32mIn[7], line 8\u001b[0m\n\u001b[0;32m      4\u001b[0m ies\u001b[38;5;241m=\u001b[39mImmutableExampleSlots()\n\u001b[0;32m      6\u001b[0m ies\u001b[38;5;241m.\u001b[39mtest\u001b[38;5;241m=\u001b[39m\u001b[38;5;28;01mTrue\u001b[39;00m\n\u001b[1;32m----> 8\u001b[0m \u001b[43mies\u001b[49m\u001b[38;5;241;43m.\u001b[39;49m\u001b[43meggs\u001b[49m\u001b[38;5;241m=\u001b[39m\u001b[38;5;124m'\u001b[39m\u001b[38;5;124mspam\u001b[39m\u001b[38;5;124m'\u001b[39m\n",
      "\u001b[1;31mAttributeError\u001b[0m: 'ImmutableExampleSlots' object has no attribute 'eggs'"
     ]
    }
   ],
   "source": [
    "#However, the class can enforce immutability by a number of different approaches.\n",
    "\n",
    "class ImmutableExampleSlots():\n",
    "    __slots__=['test']\n",
    "\n",
    "ies=ImmutableExampleSlots()\n",
    "\n",
    "ies.test=True\n",
    "\n",
    "ies.eggs='spam' # It cannot be set."
   ]
  },
  {
   "cell_type": "code",
   "execution_count": 8,
   "metadata": {},
   "outputs": [
    {
     "ename": "AttributeError",
     "evalue": "can't set attribute 'eggs'",
     "output_type": "error",
     "traceback": [
      "\u001b[1;31m---------------------------------------------------------------------------\u001b[0m",
      "\u001b[1;31mAttributeError\u001b[0m                            Traceback (most recent call last)",
      "Cell \u001b[1;32mIn[8], line 8\u001b[0m\n\u001b[0;32m      5\u001b[0m         \u001b[38;5;28;01mreturn\u001b[39;00m(\u001b[38;5;124m'\u001b[39m\u001b[38;5;124mham\u001b[39m\u001b[38;5;124m'\u001b[39m)\n\u001b[0;32m      7\u001b[0m iep\u001b[38;5;241m=\u001b[39mImmutableExampleProperty()\n\u001b[1;32m----> 8\u001b[0m \u001b[43miep\u001b[49m\u001b[38;5;241;43m.\u001b[39;49m\u001b[43meggs\u001b[49m\u001b[38;5;241m=\u001b[39m\u001b[38;5;124m'\u001b[39m\u001b[38;5;124mspam\u001b[39m\u001b[38;5;124m'\u001b[39m\n",
      "\u001b[1;31mAttributeError\u001b[0m: can't set attribute 'eggs'"
     ]
    }
   ],
   "source": [
    "class ImmutableExampleProperty():\n",
    "    pass\n",
    "    @property\n",
    "    def eggs(self):\n",
    "        return('ham')\n",
    "\n",
    "iep=ImmutableExampleProperty()\n",
    "iep.eggs='spam' # It cannot be set."
   ]
  },
  {
   "cell_type": "code",
   "execution_count": 9,
   "metadata": {},
   "outputs": [
    {
     "data": {
      "text/plain": [
       "user:999 phone#:+1-555-123-4567"
      ]
     },
     "execution_count": 9,
     "metadata": {},
     "output_type": "execute_result"
    }
   ],
   "source": [
    "from dataclasses import dataclass\n",
    "\n",
    "@dataclass(frozen=True)\n",
    "class PhoneNumber():\n",
    "    country_code: str\n",
    "    area_code: str\n",
    "    prefix: str\n",
    "    line_number: str\n",
    "    user_id: id\n",
    "    def __repr__(self):\n",
    "        return(f\"user:{self.user_id} phone#:+{self.country_code}-{self.area_code}-{self.prefix}-{self.line_number}\")\n",
    "        \n",
    "pn=PhoneNumber('1','555','123','4567','999')\n",
    "pn\n"
   ]
  },
  {
   "cell_type": "code",
   "execution_count": 10,
   "metadata": {},
   "outputs": [
    {
     "ename": "FrozenInstanceError",
     "evalue": "cannot assign to field 'user_id'",
     "output_type": "error",
     "traceback": [
      "\u001b[1;31m---------------------------------------------------------------------------\u001b[0m",
      "\u001b[1;31mFrozenInstanceError\u001b[0m                       Traceback (most recent call last)",
      "Cell \u001b[1;32mIn[10], line 1\u001b[0m\n\u001b[1;32m----> 1\u001b[0m \u001b[43mpn\u001b[49m\u001b[38;5;241;43m.\u001b[39;49m\u001b[38;5;21;43m__setattr__\u001b[39;49m\u001b[43m(\u001b[49m\u001b[38;5;124;43m\"\u001b[39;49m\u001b[38;5;124;43muser_id\u001b[39;49m\u001b[38;5;124;43m\"\u001b[39;49m\u001b[43m,\u001b[49m\u001b[38;5;124;43m\"\u001b[39;49m\u001b[38;5;124;43m1001\u001b[39;49m\u001b[38;5;124;43m\"\u001b[39;49m\u001b[43m)\u001b[49m\n",
      "File \u001b[1;32m<string>:4\u001b[0m, in \u001b[0;36m__setattr__\u001b[1;34m(self, name, value)\u001b[0m\n",
      "\u001b[1;31mFrozenInstanceError\u001b[0m: cannot assign to field 'user_id'"
     ]
    }
   ],
   "source": [
    "pn.__setattr__(\"user_id\",\"1001\")"
   ]
  },
  {
   "cell_type": "markdown",
   "metadata": {},
   "source": [
    "# Decorator example"
   ]
  },
  {
   "cell_type": "code",
   "execution_count": 11,
   "metadata": {},
   "outputs": [
    {
     "data": {
      "text/plain": [
       "'We can change fixed behavior using decorators.'"
      ]
     },
     "execution_count": 11,
     "metadata": {},
     "output_type": "execute_result"
    }
   ],
   "source": [
    "# There may be some functionality which we need to change, but cannot control directly.\n",
    "\n",
    "def vendor_provided_functionality():\n",
    "    return(\"fixed behavior\")\n",
    "\n",
    "\n",
    "def modify_vpf(pre,post):\n",
    "    def decor(f):\n",
    "        def inner(*args, **kwargs):\n",
    "            res=pre+f(*args, **kwargs)+post\n",
    "            return(res)\n",
    "        return(inner)\n",
    "    return decor\n",
    "\n",
    "\n",
    "@modify_vpf(pre=\"We can change \", post=\" using decorators.\")\n",
    "def modified_vendor_provided_functionality():\n",
    "    return(vendor_provided_functionality())\n",
    "\n",
    "modified_vendor_provided_functionality()"
   ]
  },
  {
   "cell_type": "markdown",
   "metadata": {},
   "source": [
    "# Class method example"
   ]
  },
  {
   "cell_type": "code",
   "execution_count": 12,
   "metadata": {},
   "outputs": [
    {
     "data": {
      "text/plain": [
       "user:TEST phone#:+83-193-670-9698"
      ]
     },
     "execution_count": 12,
     "metadata": {},
     "output_type": "execute_result"
    }
   ],
   "source": [
    "from dataclasses import dataclass\n",
    "from random import randint\n",
    "\n",
    "@dataclass(frozen=True)\n",
    "class PhoneNumber():\n",
    "    country_code: str\n",
    "    area_code: str\n",
    "    prefix: str\n",
    "    line_number: str\n",
    "    user_id: str\n",
    "    def __repr__(self):\n",
    "        return(f\"user:{self.user_id} phone#:+{self.country_code}-{self.area_code}-{self.prefix}-{self.line_number}\")\n",
    "    \n",
    "    @classmethod\n",
    "    def gen_rand(cls):\n",
    "        def rand_ints_to_str(str_len=3):\n",
    "            s=\"\"\n",
    "            for i in range(str_len):\n",
    "                s += str(randint(0,9))\n",
    "            return(s)\n",
    "        \n",
    "        return(cls(rand_ints_to_str(2),rand_ints_to_str(),rand_ints_to_str(),rand_ints_to_str(4),\"TEST\"))\n",
    "\n",
    "\n",
    "PhoneNumber.gen_rand()"
   ]
  }
 ],
 "metadata": {
  "kernelspec": {
   "display_name": ".venv",
   "language": "python",
   "name": "python3"
  },
  "language_info": {
   "codemirror_mode": {
    "name": "ipython",
    "version": 3
   },
   "file_extension": ".py",
   "mimetype": "text/x-python",
   "name": "python",
   "nbconvert_exporter": "python",
   "pygments_lexer": "ipython3",
   "version": "3.10.11"
  }
 },
 "nbformat": 4,
 "nbformat_minor": 2
}
